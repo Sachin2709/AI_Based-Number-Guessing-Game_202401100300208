{
  "nbformat": 4,
  "nbformat_minor": 0,
  "metadata": {
    "colab": {
      "provenance": []
    },
    "kernelspec": {
      "name": "python3",
      "display_name": "Python 3"
    },
    "language_info": {
      "name": "python"
    }
  },
  "cells": [
    {
      "cell_type": "code",
      "source": [
        "import random\n",
        "\n",
        "# Function where AI tries to guess the number\n",
        "def ai_guess_number(low, high):\n",
        "    print(f\"Think of a number between {low} and {high}, and I'll try to guess it!\")\n",
        "    input(\"Press Enter when you're ready...\")  # Wait for user confirmation\n",
        "\n",
        "    attempts = 0  # Count the number of attempts\n",
        "    while low <= high:\n",
        "        guess = (low + high) // 2  # AI guesses the middle value using binary search\n",
        "        attempts += 1  # Increment attempt counter\n",
        "\n",
        "        # Ask user for feedback\n",
        "        print(f\"Is your number {guess}? (Enter 'h' if higher, 'l' if lower, or 'c' if correct)\")\n",
        "        feedback = input().strip().lower()\n",
        "\n",
        "        if feedback == 'c':  # If AI guessed correctly\n",
        "            print(f\"Yay! I guessed your number {guess} in {attempts} attempts!\")\n",
        "            break\n",
        "        elif feedback == 'h':  # If the number is higher\n",
        "            low = guess + 1  # Adjust search range to higher values\n",
        "        elif feedback == 'l':  # If the number is lower\n",
        "            high = guess - 1  # Adjust search range to lower values\n",
        "        else:\n",
        "            print(\"Invalid input! Please enter 'h', 'l', or 'c'.\")  # Handle invalid input\n",
        "\n",
        "# Run the game with a number range of 1 to 100\n",
        "if __name__ == \"__main__\":\n",
        "    ai_guess_number(1, 100)  # Adjust range as needed\n"
      ],
      "metadata": {
        "colab": {
          "base_uri": "https://localhost:8080/"
        },
        "id": "5OGKhKPvhe9r",
        "outputId": "cd57dce7-3108-4603-9614-ab061b015b76"
      },
      "execution_count": 5,
      "outputs": [
        {
          "output_type": "stream",
          "name": "stdout",
          "text": [
            "Think of a number between 1 and 100, and I'll try to guess it!\n",
            "Press Enter when you're ready...66\n",
            "Is your number 50? (Enter 'h' if higher, 'l' if lower, or 'c' if correct)\n",
            "h\n",
            "Is your number 75? (Enter 'h' if higher, 'l' if lower, or 'c' if correct)\n",
            "l\n",
            "Is your number 62? (Enter 'h' if higher, 'l' if lower, or 'c' if correct)\n",
            "h\n",
            "Is your number 68? (Enter 'h' if higher, 'l' if lower, or 'c' if correct)\n",
            "l\n",
            "Is your number 65? (Enter 'h' if higher, 'l' if lower, or 'c' if correct)\n",
            "h\n",
            "Is your number 66? (Enter 'h' if higher, 'l' if lower, or 'c' if correct)\n",
            "c\n",
            "Yay! I guessed your number 66 in 6 attempts!\n"
          ]
        }
      ]
    }
  ]
}